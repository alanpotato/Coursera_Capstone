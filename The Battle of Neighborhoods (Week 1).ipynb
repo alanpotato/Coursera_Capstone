{
 "cells": [
  {
   "cell_type": "markdown",
   "metadata": {},
   "source": [
    "<h1 align=\"center\">The Battle of Neighborhoods (Week 1)</h1> "
   ]
  },
  {
   "cell_type": "markdown",
   "metadata": {},
   "source": [
    "<h3 align=\"center\">Alan Sun</h3> \n",
    "\n",
    "\n",
    "\n",
    "\n",
    "\n",
    "\n",
    "\n",
    "\n"
   ]
  },
  {
   "cell_type": "markdown",
   "metadata": {},
   "source": [
    "## In which London borough should Starbucks open a new coffee shop?"
   ]
  },
  {
   "cell_type": "markdown",
   "metadata": {},
   "source": [
    "### Introduction/Business problem"
   ]
  },
  {
   "cell_type": "markdown",
   "metadata": {},
   "source": [
    "Starbucks is a staple of London's high streets, with shops all over the City. As with every chain store, Starbucks is always looking for opportunities and locations to open new shops. This notebook will provide analysis and advice to the Starbucks stakeholders as to where in London they should open up their newest coffee shop. (Please don't sue me for defamation - all companies mentioned in this notebook are fictitious, and likeness to any existing companies is purely coincidental).\n",
    "\n",
    "Greater London is already very naturally divided into 33 principal divisions - The 32 London boroughs, as well as the City of London. So we will use these divisions to decide which would be the most profitable borough in which to open Starbucks' newest branch. This decision will be based on Foursquare location data for each borough, and the venue types that feature most frequently in each borough.\n",
    "\n",
    "To give a crude example, it could be the case that people who visit coffee shops also eat at Italian restaurants. Then you would expect that it would be the case that a new coffee shop opened in an area with a high density of Italian restaurants would be more profitable than one opened in an area with very few Italian restaurants."
   ]
  },
  {
   "cell_type": "markdown",
   "metadata": {},
   "source": [
    "### Data source and uses"
   ]
  },
  {
   "cell_type": "code",
   "execution_count": 1,
   "metadata": {},
   "outputs": [
    {
     "name": "stdout",
     "output_type": "stream",
     "text": [
      "Libraries imported.\n"
     ]
    }
   ],
   "source": [
    "from bs4 import BeautifulSoup\n",
    "import pandas as pd\n",
    "import requests # library to handle requests\n",
    "print('Libraries imported.')"
   ]
  },
  {
   "cell_type": "markdown",
   "metadata": {},
   "source": [
    "We will scrape data from the following Wikipedia page to find a list of all the London boroughs, along with their latitude and longitude."
   ]
  },
  {
   "cell_type": "code",
   "execution_count": 2,
   "metadata": {},
   "outputs": [
    {
     "data": {
      "text/plain": [
       "200"
      ]
     },
     "execution_count": 2,
     "metadata": {},
     "output_type": "execute_result"
    }
   ],
   "source": [
    "boroughs_url = \"https://en.wikipedia.org/wiki/List_of_London_boroughs\"\n",
    "r = requests.get(boroughs_url)\n",
    "r.status_code"
   ]
  },
  {
   "cell_type": "code",
   "execution_count": 3,
   "metadata": {},
   "outputs": [],
   "source": [
    "soup = BeautifulSoup(r.text, 'html.parser')"
   ]
  },
  {
   "cell_type": "code",
   "execution_count": 4,
   "metadata": {},
   "outputs": [
    {
     "name": "stdout",
     "output_type": "stream",
     "text": [
      "(33, 3)\n"
     ]
    },
    {
     "data": {
      "text/html": [
       "<div>\n",
       "<style scoped>\n",
       "    .dataframe tbody tr th:only-of-type {\n",
       "        vertical-align: middle;\n",
       "    }\n",
       "\n",
       "    .dataframe tbody tr th {\n",
       "        vertical-align: top;\n",
       "    }\n",
       "\n",
       "    .dataframe thead th {\n",
       "        text-align: right;\n",
       "    }\n",
       "</style>\n",
       "<table border=\"1\" class=\"dataframe\">\n",
       "  <thead>\n",
       "    <tr style=\"text-align: right;\">\n",
       "      <th></th>\n",
       "      <th>Borough</th>\n",
       "      <th>Latitude</th>\n",
       "      <th>Longitude</th>\n",
       "    </tr>\n",
       "  </thead>\n",
       "  <tbody>\n",
       "    <tr>\n",
       "      <th>0</th>\n",
       "      <td>Barking and Dagenham</td>\n",
       "      <td>﻿51.5607</td>\n",
       "      <td>0.1557</td>\n",
       "    </tr>\n",
       "    <tr>\n",
       "      <th>1</th>\n",
       "      <td>Barnet</td>\n",
       "      <td>﻿51.6252</td>\n",
       "      <td>-0.1517</td>\n",
       "    </tr>\n",
       "    <tr>\n",
       "      <th>2</th>\n",
       "      <td>Bexley</td>\n",
       "      <td>﻿51.4549</td>\n",
       "      <td>0.1505</td>\n",
       "    </tr>\n",
       "    <tr>\n",
       "      <th>3</th>\n",
       "      <td>Brent</td>\n",
       "      <td>﻿51.5588</td>\n",
       "      <td>-0.2817</td>\n",
       "    </tr>\n",
       "    <tr>\n",
       "      <th>4</th>\n",
       "      <td>Bromley</td>\n",
       "      <td>﻿51.4039</td>\n",
       "      <td>0.0198</td>\n",
       "    </tr>\n",
       "    <tr>\n",
       "      <th>5</th>\n",
       "      <td>Camden</td>\n",
       "      <td>﻿51.5290</td>\n",
       "      <td>-0.1255</td>\n",
       "    </tr>\n",
       "    <tr>\n",
       "      <th>6</th>\n",
       "      <td>Croydon</td>\n",
       "      <td>﻿51.3714</td>\n",
       "      <td>-0.0977</td>\n",
       "    </tr>\n",
       "    <tr>\n",
       "      <th>7</th>\n",
       "      <td>Ealing</td>\n",
       "      <td>﻿51.5130</td>\n",
       "      <td>-0.3089</td>\n",
       "    </tr>\n",
       "    <tr>\n",
       "      <th>8</th>\n",
       "      <td>Enfield</td>\n",
       "      <td>﻿51.6538</td>\n",
       "      <td>-0.0799</td>\n",
       "    </tr>\n",
       "    <tr>\n",
       "      <th>9</th>\n",
       "      <td>Greenwich</td>\n",
       "      <td>﻿51.4892</td>\n",
       "      <td>0.0648</td>\n",
       "    </tr>\n",
       "    <tr>\n",
       "      <th>10</th>\n",
       "      <td>Hackney</td>\n",
       "      <td>﻿51.5450</td>\n",
       "      <td>-0.0553</td>\n",
       "    </tr>\n",
       "    <tr>\n",
       "      <th>11</th>\n",
       "      <td>Hammersmith and Fulham</td>\n",
       "      <td>﻿51.4927</td>\n",
       "      <td>-0.2339</td>\n",
       "    </tr>\n",
       "    <tr>\n",
       "      <th>12</th>\n",
       "      <td>Haringey</td>\n",
       "      <td>﻿51.6000</td>\n",
       "      <td>-0.1119</td>\n",
       "    </tr>\n",
       "    <tr>\n",
       "      <th>13</th>\n",
       "      <td>Harrow</td>\n",
       "      <td>﻿51.5898</td>\n",
       "      <td>-0.3346</td>\n",
       "    </tr>\n",
       "    <tr>\n",
       "      <th>14</th>\n",
       "      <td>Havering</td>\n",
       "      <td>﻿51.5812</td>\n",
       "      <td>0.1837</td>\n",
       "    </tr>\n",
       "    <tr>\n",
       "      <th>15</th>\n",
       "      <td>Hillingdon</td>\n",
       "      <td>﻿51.5441</td>\n",
       "      <td>-0.4760</td>\n",
       "    </tr>\n",
       "    <tr>\n",
       "      <th>16</th>\n",
       "      <td>Hounslow</td>\n",
       "      <td>﻿51.4746</td>\n",
       "      <td>-0.3680</td>\n",
       "    </tr>\n",
       "    <tr>\n",
       "      <th>17</th>\n",
       "      <td>Islington</td>\n",
       "      <td>﻿51.5416</td>\n",
       "      <td>-0.1022</td>\n",
       "    </tr>\n",
       "    <tr>\n",
       "      <th>18</th>\n",
       "      <td>Kensington and Chelsea</td>\n",
       "      <td>﻿51.5020</td>\n",
       "      <td>-0.1947</td>\n",
       "    </tr>\n",
       "    <tr>\n",
       "      <th>19</th>\n",
       "      <td>Kingston upon Thames</td>\n",
       "      <td>﻿51.4085</td>\n",
       "      <td>-0.3064</td>\n",
       "    </tr>\n",
       "    <tr>\n",
       "      <th>20</th>\n",
       "      <td>Lambeth</td>\n",
       "      <td>﻿51.4607</td>\n",
       "      <td>-0.1163</td>\n",
       "    </tr>\n",
       "    <tr>\n",
       "      <th>21</th>\n",
       "      <td>Lewisham</td>\n",
       "      <td>﻿51.4452</td>\n",
       "      <td>-0.0209</td>\n",
       "    </tr>\n",
       "    <tr>\n",
       "      <th>22</th>\n",
       "      <td>Merton</td>\n",
       "      <td>﻿51.4014</td>\n",
       "      <td>-0.1958</td>\n",
       "    </tr>\n",
       "    <tr>\n",
       "      <th>23</th>\n",
       "      <td>Newham</td>\n",
       "      <td>﻿51.5077</td>\n",
       "      <td>0.0469</td>\n",
       "    </tr>\n",
       "    <tr>\n",
       "      <th>24</th>\n",
       "      <td>Redbridge</td>\n",
       "      <td>﻿51.5590</td>\n",
       "      <td>0.0741</td>\n",
       "    </tr>\n",
       "    <tr>\n",
       "      <th>25</th>\n",
       "      <td>Richmond upon Thames</td>\n",
       "      <td>﻿51.4479</td>\n",
       "      <td>-0.3260</td>\n",
       "    </tr>\n",
       "    <tr>\n",
       "      <th>26</th>\n",
       "      <td>Southwark</td>\n",
       "      <td>﻿51.5035</td>\n",
       "      <td>-0.0804</td>\n",
       "    </tr>\n",
       "    <tr>\n",
       "      <th>27</th>\n",
       "      <td>Sutton</td>\n",
       "      <td>﻿51.3618</td>\n",
       "      <td>-0.1945</td>\n",
       "    </tr>\n",
       "    <tr>\n",
       "      <th>28</th>\n",
       "      <td>Tower Hamlets</td>\n",
       "      <td>﻿51.5099</td>\n",
       "      <td>-0.0059</td>\n",
       "    </tr>\n",
       "    <tr>\n",
       "      <th>29</th>\n",
       "      <td>Waltham Forest</td>\n",
       "      <td>﻿51.5908</td>\n",
       "      <td>-0.0134</td>\n",
       "    </tr>\n",
       "    <tr>\n",
       "      <th>30</th>\n",
       "      <td>Wandsworth</td>\n",
       "      <td>﻿51.4567</td>\n",
       "      <td>-0.1910</td>\n",
       "    </tr>\n",
       "    <tr>\n",
       "      <th>31</th>\n",
       "      <td>Westminster</td>\n",
       "      <td>﻿51.4973</td>\n",
       "      <td>-0.1372</td>\n",
       "    </tr>\n",
       "    <tr>\n",
       "      <th>32</th>\n",
       "      <td>City of London</td>\n",
       "      <td>51.5155</td>\n",
       "      <td>-0.0922</td>\n",
       "    </tr>\n",
       "  </tbody>\n",
       "</table>\n",
       "</div>"
      ],
      "text/plain": [
       "                   Borough   Latitude Longitude\n",
       "0     Barking and Dagenham   ﻿51.5607    0.1557\n",
       "1                   Barnet   ﻿51.6252   -0.1517\n",
       "2                   Bexley   ﻿51.4549    0.1505\n",
       "3                    Brent   ﻿51.5588   -0.2817\n",
       "4                  Bromley   ﻿51.4039    0.0198\n",
       "5                   Camden   ﻿51.5290   -0.1255\n",
       "6                  Croydon   ﻿51.3714   -0.0977\n",
       "7                   Ealing   ﻿51.5130   -0.3089\n",
       "8                  Enfield   ﻿51.6538   -0.0799\n",
       "9                Greenwich   ﻿51.4892    0.0648\n",
       "10                 Hackney   ﻿51.5450   -0.0553\n",
       "11  Hammersmith and Fulham   ﻿51.4927   -0.2339\n",
       "12                Haringey   ﻿51.6000   -0.1119\n",
       "13                  Harrow   ﻿51.5898   -0.3346\n",
       "14                Havering   ﻿51.5812    0.1837\n",
       "15              Hillingdon   ﻿51.5441   -0.4760\n",
       "16                Hounslow   ﻿51.4746   -0.3680\n",
       "17               Islington   ﻿51.5416   -0.1022\n",
       "18  Kensington and Chelsea   ﻿51.5020   -0.1947\n",
       "19    Kingston upon Thames   ﻿51.4085   -0.3064\n",
       "20                 Lambeth   ﻿51.4607   -0.1163\n",
       "21                Lewisham   ﻿51.4452   -0.0209\n",
       "22                  Merton   ﻿51.4014   -0.1958\n",
       "23                  Newham   ﻿51.5077    0.0469\n",
       "24               Redbridge   ﻿51.5590    0.0741\n",
       "25    Richmond upon Thames   ﻿51.4479   -0.3260\n",
       "26               Southwark   ﻿51.5035   -0.0804\n",
       "27                  Sutton   ﻿51.3618   -0.1945\n",
       "28           Tower Hamlets   ﻿51.5099   -0.0059\n",
       "29          Waltham Forest   ﻿51.5908   -0.0134\n",
       "30              Wandsworth   ﻿51.4567   -0.1910\n",
       "31             Westminster   ﻿51.4973   -0.1372\n",
       "32          City of London    51.5155   -0.0922"
      ]
     },
     "execution_count": 4,
     "metadata": {},
     "output_type": "execute_result"
    }
   ],
   "source": [
    "table = soup.find('table')\n",
    "table_contents = []\n",
    "for row in table.findAll('tr')[1:]:\n",
    "    cell = {} \n",
    "    cell['Borough'] = row.findAll('td')[0].text.split(' [')[0].split('\\n')[0]\n",
    "    coords = row.findAll('td')[8].text.split('/')[1]\n",
    "    cell['Latitude'] = coords.split('°N ')[0]\n",
    "    cell['Longitude'] = coords.split('°N ')[1][:-4]\n",
    "    if 'W' in coords:\n",
    "        cell['Longitude'] = '-' + cell['Longitude']\n",
    "    table_contents.append(cell)\n",
    "\n",
    "table_contents.append({'Borough': 'City of London', 'Latitude': '51.5155', 'Longitude': '-0.0922'})\n",
    "# print(table_contents)\n",
    "df = pd.DataFrame(table_contents)\n",
    "print(df.shape)\n",
    "df"
   ]
  },
  {
   "cell_type": "markdown",
   "metadata": {},
   "source": [
    "In addition to the above data, we will be leveraging Foursquare location data to gain insight into the venue types in each Borough."
   ]
  }
 ],
 "metadata": {
  "kernelspec": {
   "display_name": "Python 3",
   "language": "python",
   "name": "python3"
  },
  "language_info": {
   "codemirror_mode": {
    "name": "ipython",
    "version": 3
   },
   "file_extension": ".py",
   "mimetype": "text/x-python",
   "name": "python",
   "nbconvert_exporter": "python",
   "pygments_lexer": "ipython3",
   "version": "3.8.5"
  }
 },
 "nbformat": 4,
 "nbformat_minor": 4
}
